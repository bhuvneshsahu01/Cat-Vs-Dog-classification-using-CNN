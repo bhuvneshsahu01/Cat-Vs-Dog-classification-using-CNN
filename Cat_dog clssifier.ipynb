{
 "cells": [
  {
   "cell_type": "code",
   "execution_count": null,
   "metadata": {
    "id": "9hTP9ikk3Kt3"
   },
   "outputs": [],
   "source": [
    "!mkdir -p ~/.kaggle\n",
    "!cp kaggle.json ~/.kaggle/"
   ]
  },
  {
   "cell_type": "code",
   "execution_count": null,
   "metadata": {
    "colab": {
     "base_uri": "https://localhost:8080/"
    },
    "id": "AGci-nmH4e9C",
    "outputId": "4a4d4aa7-6d74-4b98-abce-f0afa88bf882"
   },
   "outputs": [
    {
     "name": "stdout",
     "output_type": "stream",
     "text": [
      "Warning: Your Kaggle API key is readable by other users on this system! To fix this, you can run 'chmod 600 /root/.kaggle/kaggle.json'\n",
      "Downloading dogs-vs-cats.zip to /content\n",
      " 98% 1.04G/1.06G [00:04<00:00, 262MB/s]\n",
      "100% 1.06G/1.06G [00:04<00:00, 231MB/s]\n"
     ]
    }
   ],
   "source": [
    "!kaggle datasets download -d salader/dogs-vs-cats"
   ]
  },
  {
   "cell_type": "code",
   "execution_count": null,
   "metadata": {
    "id": "WXegEegSA8Mb"
   },
   "outputs": [],
   "source": []
  },
  {
   "cell_type": "code",
   "execution_count": null,
   "metadata": {
    "id": "s8Z1dU8D4fC3"
   },
   "outputs": [],
   "source": [
    "import zipfile\n",
    "zip_ref=zipfile.ZipFile('/content/dogs-vs-cats.zip','r')\n",
    "zip_ref.extractall('/content')\n",
    "zip_ref.close()"
   ]
  },
  {
   "cell_type": "code",
   "execution_count": null,
   "metadata": {
    "id": "J-LsDnMK5cIM"
   },
   "outputs": [],
   "source": [
    "import tensorflow as tf\n",
    "from tensorflow import keras\n",
    "from keras import Sequential\n",
    "from keras.layers import Dense,Conv2D,MaxPooling2D,Flatten,BatchNormalization,Dropout"
   ]
  },
  {
   "cell_type": "code",
   "execution_count": null,
   "metadata": {
    "colab": {
     "base_uri": "https://localhost:8080/"
    },
    "id": "a1SVYQWf5cKd",
    "outputId": "57eb11de-5ee9-4ffc-f2c7-11966939190c"
   },
   "outputs": [
    {
     "name": "stdout",
     "output_type": "stream",
     "text": [
      "Found 20000 files belonging to 2 classes.\n",
      "Found 5000 files belonging to 2 classes.\n"
     ]
    }
   ],
   "source": [
    "#generators\n",
    "train=keras.utils.image_dataset_from_directory(directory='/content/train', labels='inferred', label_mode='int', batch_size=32,image_size=(256,256))\n",
    "validation=keras.utils.image_dataset_from_directory(directory='/content/test', labels='inferred', label_mode='int', batch_size=32,image_size=(256,256))\n"
   ]
  },
  {
   "cell_type": "code",
   "execution_count": null,
   "metadata": {
    "id": "IYsIjzsQ5cMi"
   },
   "outputs": [],
   "source": [
    "# Normalize\n",
    "def process(image,label): \n",
    "    image=tf.cast(image/255.,tf.float32)\n",
    "    return image,label\n",
    "train=train.map(process)\n",
    "validation=validation.map(process)"
   ]
  },
  {
   "cell_type": "code",
   "execution_count": null,
   "metadata": {
    "id": "bDI4f4AX8WuW"
   },
   "outputs": [],
   "source": [
    "# create CNN model\n",
    "model=Sequential()\n",
    "\n",
    "model.add(Conv2D(32,kernel_size=(3,3),padding='valid',activation='relu',input_shape=(256,256,3)))\n",
    "model.add(MaxPooling2D(pool_size=(2,2),strides=2,padding='valid'))\n",
    "\n",
    "model.add(Conv2D(64,kernel_size=(3,3),padding='valid',activation='relu',input_shape=(256,256,3)))\n",
    "model.add(MaxPooling2D(pool_size=(2,2),strides=2,padding='valid'))\n",
    "\n",
    "model.add(Conv2D(128,kernel_size=(3,3),padding='valid',activation='relu',input_shape=(256,256,3)))\n",
    "model.add(MaxPooling2D(pool_size=(2,2),strides=2,padding='valid'))\n",
    "\n",
    "model.add(Flatten())\n",
    "\n",
    "model.add(Dense(128,activation='relu'))\n",
    "model.add(Dense(64,activation='relu'))\n",
    "model.add(Dense(1,activation='sigmoid'))\n",
    "\n"
   ]
  },
  {
   "cell_type": "code",
   "execution_count": null,
   "metadata": {
    "colab": {
     "base_uri": "https://localhost:8080/"
    },
    "id": "aQysJue85cOg",
    "outputId": "11572491-8b3a-445d-90ab-22eaacc3d49a"
   },
   "outputs": [
    {
     "name": "stdout",
     "output_type": "stream",
     "text": [
      "Model: \"sequential\"\n",
      "_________________________________________________________________\n",
      " Layer (type)                Output Shape              Param #   \n",
      "=================================================================\n",
      " conv2d (Conv2D)             (None, 254, 254, 32)      896       \n",
      "                                                                 \n",
      " max_pooling2d (MaxPooling2  (None, 127, 127, 32)      0         \n",
      " D)                                                              \n",
      "                                                                 \n",
      " conv2d_1 (Conv2D)           (None, 125, 125, 64)      18496     \n",
      "                                                                 \n",
      " max_pooling2d_1 (MaxPoolin  (None, 62, 62, 64)        0         \n",
      " g2D)                                                            \n",
      "                                                                 \n",
      " conv2d_2 (Conv2D)           (None, 60, 60, 128)       73856     \n",
      "                                                                 \n",
      " max_pooling2d_2 (MaxPoolin  (None, 30, 30, 128)       0         \n",
      " g2D)                                                            \n",
      "                                                                 \n",
      " flatten (Flatten)           (None, 115200)            0         \n",
      "                                                                 \n",
      " dense (Dense)               (None, 128)               14745728  \n",
      "                                                                 \n",
      " dense_1 (Dense)             (None, 64)                8256      \n",
      "                                                                 \n",
      " dense_2 (Dense)             (None, 1)                 65        \n",
      "                                                                 \n",
      "=================================================================\n",
      "Total params: 14847297 (56.64 MB)\n",
      "Trainable params: 14847297 (56.64 MB)\n",
      "Non-trainable params: 0 (0.00 Byte)\n",
      "_________________________________________________________________\n"
     ]
    }
   ],
   "source": [
    "model.summary()"
   ]
  },
  {
   "cell_type": "code",
   "execution_count": null,
   "metadata": {
    "id": "WqZ2zd6L_Wiw"
   },
   "outputs": [],
   "source": []
  },
  {
   "cell_type": "code",
   "execution_count": null,
   "metadata": {
    "id": "XfpLJVsM5cRE"
   },
   "outputs": [],
   "source": [
    "model.compile(optimizer='adam',loss='binary_crossentropy',metrics=['accuracy'])"
   ]
  },
  {
   "cell_type": "code",
   "execution_count": null,
   "metadata": {
    "colab": {
     "background_save": true,
     "base_uri": "https://localhost:8080/"
    },
    "id": "KN95IV4Z5cUh",
    "outputId": "660557d8-4a59-4d9c-df9e-d368124e9ce9"
   },
   "outputs": [
    {
     "name": "stdout",
     "output_type": "stream",
     "text": [
      "Epoch 1/10\n",
      "625/625 [==============================] - 60s 85ms/step - loss: 0.6600 - accuracy: 0.6035 - val_loss: 0.6206 - val_accuracy: 0.6732\n",
      "Epoch 2/10\n",
      "625/625 [==============================] - 51s 82ms/step - loss: 0.5350 - accuracy: 0.7262 - val_loss: 0.4739 - val_accuracy: 0.7710\n",
      "Epoch 3/10\n",
      "625/625 [==============================] - 52s 83ms/step - loss: 0.4174 - accuracy: 0.8058 - val_loss: 0.4869 - val_accuracy: 0.7812\n",
      "Epoch 4/10\n",
      "625/625 [==============================] - 52s 83ms/step - loss: 0.2932 - accuracy: 0.8747 - val_loss: 0.6605 - val_accuracy: 0.7804\n",
      "Epoch 5/10\n",
      "625/625 [==============================] - 50s 80ms/step - loss: 0.1784 - accuracy: 0.9291 - val_loss: 0.8225 - val_accuracy: 0.7820\n",
      "Epoch 6/10\n",
      "625/625 [==============================] - 49s 79ms/step - loss: 0.0933 - accuracy: 0.9660 - val_loss: 1.0742 - val_accuracy: 0.7774\n",
      "Epoch 7/10\n",
      "625/625 [==============================] - 49s 78ms/step - loss: 0.0758 - accuracy: 0.9730 - val_loss: 1.2553 - val_accuracy: 0.7696\n",
      "Epoch 8/10\n",
      "625/625 [==============================] - 50s 79ms/step - loss: 0.0498 - accuracy: 0.9833 - val_loss: 1.1569 - val_accuracy: 0.7844\n",
      "Epoch 9/10\n",
      "625/625 [==============================] - 49s 78ms/step - loss: 0.0406 - accuracy: 0.9856 - val_loss: 1.3900 - val_accuracy: 0.7748\n",
      "Epoch 10/10\n",
      "625/625 [==============================] - 49s 77ms/step - loss: 0.0389 - accuracy: 0.9880 - val_loss: 1.3434 - val_accuracy: 0.7770\n"
     ]
    },
    {
     "data": {
      "text/plain": [
       "<keras.src.callbacks.History at 0x7c97e85233d0>"
      ]
     },
     "execution_count": 10,
     "metadata": {},
     "output_type": "execute_result"
    }
   ],
   "source": [
    "model.fit(train,epochs=10,validation_data=validation)"
   ]
  },
  {
   "cell_type": "code",
   "execution_count": null,
   "metadata": {
    "id": "osEZ9G3tA9nf"
   },
   "outputs": [],
   "source": [
    "import matplotlib.pyplot as plt\n",
    "plt.plot(history.history(['accuracy'],color='red',label='train'))\n",
    "plt.plot(history.history(['val_score'],color='blue',label='validation'))\n",
    "plt.legend()\n",
    "plt.show()"
   ]
  },
  {
   "cell_type": "code",
   "execution_count": null,
   "metadata": {
    "id": "HfEN1TqUA9xA"
   },
   "outputs": [],
   "source": [
    "plt.plot(history.history(['loss'],color='red',label='train'))\n",
    "plt.plot(history.history(['val_loss'],color='blue',label='validation'))\n",
    "plt.legend()\n",
    "plt.show()"
   ]
  },
  {
   "cell_type": "markdown",
   "metadata": {
    "id": "2G4ZwNgqCblZ"
   },
   "source": [
    "# Stopping Overfitting"
   ]
  },
  {
   "cell_type": "code",
   "execution_count": null,
   "metadata": {
    "id": "0ZVaXlf0A9y2"
   },
   "outputs": [],
   "source": [
    "# create CNN model\n",
    "model2=Sequential()\n",
    "\n",
    "model2.add(Conv2D(32,kernel_size=(3,3),padding='valid',activation='relu',input_shape=(256,256,3)))\n",
    "model2.add(BatchNormalization())\n",
    "model2.add(MaxPooling2D(pool_size=(2,2),strides=2,padding='valid'))\n",
    "\n",
    "model2.add(Conv2D(64,kernel_size=(3,3),padding='valid',activation='relu',input_shape=(256,256,3)))\n",
    "model2.add(BatchNormalization())\n",
    "model2.add(MaxPooling2D(pool_size=(2,2),strides=2,padding='valid'))\n",
    "\n",
    "model2.add(Conv2D(128,kernel_size=(3,3),padding='valid',activation='relu',input_shape=(256,256,3)))\n",
    "model2.add(BatchNormalization())\n",
    "model2.add(MaxPooling2D(pool_size=(2,2),strides=2,padding='valid'))\n",
    "\n",
    "model2.add(Flatten())\n",
    "\n",
    "model2.add(Dense(128,activation='relu'))\n",
    "model2.add(Dropout(0.1))\n",
    "model2.add(Dense(64,activation='relu'))\n",
    "model2.add(Dropout(0.1))\n",
    "model2.add(Dense(1,activation='sigmoid'))\n",
    "\n"
   ]
  },
  {
   "cell_type": "code",
   "execution_count": null,
   "metadata": {
    "id": "eW1elOleA92W"
   },
   "outputs": [],
   "source": [
    "model2.compile(optimizer='adam',loss='binary_crossentropy',metrics=['accuracy'])"
   ]
  },
  {
   "cell_type": "markdown",
   "metadata": {
    "id": "KfPCVFXy3ZZl"
   },
   "source": [
    "# New Section"
   ]
  },
  {
   "cell_type": "code",
   "execution_count": null,
   "metadata": {
    "id": "bKLrDR4oDWfr"
   },
   "outputs": [],
   "source": [
    "model2.summary()"
   ]
  },
  {
   "cell_type": "code",
   "execution_count": null,
   "metadata": {
    "colab": {
     "background_save": true
    },
    "id": "3nk5sOyjDWht",
    "outputId": "4fbed015-a1a4-4b3a-8609-4324e3720e66"
   },
   "outputs": [
    {
     "name": "stdout",
     "output_type": "stream",
     "text": [
      "Epoch 1/10\n",
      "625/625 [==============================] - 73s 110ms/step - loss: 1.4983 - accuracy: 0.5777 - val_loss: 0.6559 - val_accuracy: 0.6588\n",
      "Epoch 2/10\n",
      "625/625 [==============================] - 69s 111ms/step - loss: 0.5739 - accuracy: 0.6992 - val_loss: 0.5123 - val_accuracy: 0.7568\n",
      "Epoch 3/10\n",
      "625/625 [==============================] - 65s 103ms/step - loss: 0.4798 - accuracy: 0.7714 - val_loss: 0.4688 - val_accuracy: 0.7822\n",
      "Epoch 4/10\n",
      "625/625 [==============================] - 68s 109ms/step - loss: 0.4217 - accuracy: 0.8074 - val_loss: 0.4878 - val_accuracy: 0.7634\n",
      "Epoch 5/10\n",
      "625/625 [==============================] - 67s 107ms/step - loss: 0.3716 - accuracy: 0.8386 - val_loss: 0.5484 - val_accuracy: 0.7570\n",
      "Epoch 6/10\n",
      "625/625 [==============================] - 65s 104ms/step - loss: 0.2984 - accuracy: 0.8706 - val_loss: 0.4251 - val_accuracy: 0.8112\n",
      "Epoch 7/10\n",
      "625/625 [==============================] - 65s 104ms/step - loss: 0.2327 - accuracy: 0.9013 - val_loss: 0.6089 - val_accuracy: 0.7224\n",
      "Epoch 8/10\n",
      "625/625 [==============================] - 68s 107ms/step - loss: 0.1751 - accuracy: 0.9272 - val_loss: 0.5486 - val_accuracy: 0.8152\n",
      "Epoch 9/10\n",
      "625/625 [==============================] - 65s 104ms/step - loss: 0.1230 - accuracy: 0.9510 - val_loss: 0.5449 - val_accuracy: 0.8158\n",
      "Epoch 10/10\n",
      "625/625 [==============================] - 64s 102ms/step - loss: 0.1021 - accuracy: 0.9614 - val_loss: 0.5444 - val_accuracy: 0.8212\n"
     ]
    }
   ],
   "source": [
    "model2.fit(train,epochs=10,validation_data=validation)"
   ]
  },
  {
   "cell_type": "code",
   "execution_count": null,
   "metadata": {
    "colab": {
     "background_save": true
    },
    "id": "P3bVt759DWk_",
    "outputId": "a41ded63-2461-46e9-cad0-485f6e0c0252"
   },
   "outputs": [
    {
     "data": {
      "image/png": "[encoded data removed]",
      "text/plain": [
       "<Figure size 640x480 with 1 Axes>"
      ]
     },
     "metadata": {},
     "output_type": "display_data"
    }
   ],
   "source": [
    "import matplotlib.pyplot as plt\n",
    "plt.plot(history.history(['accuracy'],color='red',label='train'))\n",
    "plt.plot(history.history(['val_score'],color='blue',label='validation'))\n",
    "plt.legend()\n",
    "plt.show()"
   ]
  },
  {
   "cell_type": "code",
   "execution_count": null,
   "metadata": {
    "colab": {
     "background_save": true
    },
    "id": "a1POEuR6Dj-F",
    "outputId": "39f7b090-dece-4ee9-b95b-bb804c7f225e"
   },
   "outputs": [
    {
     "data": {
      "image/png": "[encoded data removed]",
      "text/plain": [
       "<Figure size 640x480 with 1 Axes>"
      ]
     },
     "metadata": {},
     "output_type": "display_data"
    }
   ],
   "source": [
    "plt.plot(history.history(['loss'],color='red',label='train'))\n",
    "plt.plot(history.history(['val_loss'],color='blue',label='validation'))\n",
    "plt.legend()\n",
    "plt.show()"
   ]
  },
  {
   "cell_type": "code",
   "execution_count": null,
   "metadata": {
    "colab": {
     "background_save": true
    },
    "id": "IIQYgeSeDlLJ"
   },
   "outputs": [],
   "source": []
  }
 ],
 "metadata": {
  "accelerator": "GPU",
  "colab": {
   "gpuType": "T4",
   "provenance": []
  },
  "kernelspec": {
   "display_name": "Python 3 (ipykernel)",
   "language": "python",
   "name": "python3"
  },
  "language_info": {
   "codemirror_mode": {
    "name": "ipython",
    "version": 3
   },
   "file_extension": ".py",
   "mimetype": "text/x-python",
   "name": "python",
   "nbconvert_exporter": "python",
   "pygments_lexer": "ipython3",
   "version": "3.11.8"
  }
 },
 "nbformat": 4,
 "nbformat_minor": 1
}
